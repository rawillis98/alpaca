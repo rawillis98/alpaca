{
 "cells": [
  {
   "cell_type": "code",
   "execution_count": 1,
   "metadata": {},
   "outputs": [],
   "source": [
    "from helper import *"
   ]
  },
  {
   "cell_type": "code",
   "execution_count": 33,
   "metadata": {},
   "outputs": [
    {
     "data": {
      "text/html": [
       "<div>\n",
       "<style scoped>\n",
       "    .dataframe tbody tr th:only-of-type {\n",
       "        vertical-align: middle;\n",
       "    }\n",
       "\n",
       "    .dataframe tbody tr th {\n",
       "        vertical-align: top;\n",
       "    }\n",
       "\n",
       "    .dataframe thead th {\n",
       "        text-align: right;\n",
       "    }\n",
       "</style>\n",
       "<table border=\"1\" class=\"dataframe\">\n",
       "  <thead>\n",
       "    <tr style=\"text-align: right;\">\n",
       "      <th></th>\n",
       "      <th>Open</th>\n",
       "      <th>High</th>\n",
       "      <th>Low</th>\n",
       "      <th>Close</th>\n",
       "      <th>Volume</th>\n",
       "    </tr>\n",
       "  </thead>\n",
       "  <tbody>\n",
       "    <tr>\n",
       "      <th>2018-11-27</th>\n",
       "      <td>27.1300</td>\n",
       "      <td>27.1399</td>\n",
       "      <td>26.9700</td>\n",
       "      <td>27.0352</td>\n",
       "      <td>8046.0</td>\n",
       "    </tr>\n",
       "    <tr>\n",
       "      <th>2018-11-28</th>\n",
       "      <td>27.0188</td>\n",
       "      <td>27.2300</td>\n",
       "      <td>26.7300</td>\n",
       "      <td>27.2300</td>\n",
       "      <td>33611.0</td>\n",
       "    </tr>\n",
       "    <tr>\n",
       "      <th>2018-11-29</th>\n",
       "      <td>27.2700</td>\n",
       "      <td>27.4899</td>\n",
       "      <td>27.2601</td>\n",
       "      <td>27.3601</td>\n",
       "      <td>15552.0</td>\n",
       "    </tr>\n",
       "    <tr>\n",
       "      <th>2018-11-30</th>\n",
       "      <td>27.2151</td>\n",
       "      <td>27.2900</td>\n",
       "      <td>27.1800</td>\n",
       "      <td>27.2700</td>\n",
       "      <td>7494.0</td>\n",
       "    </tr>\n",
       "    <tr>\n",
       "      <th>2018-12-03</th>\n",
       "      <td>27.7800</td>\n",
       "      <td>27.8355</td>\n",
       "      <td>27.5200</td>\n",
       "      <td>27.6599</td>\n",
       "      <td>10745.0</td>\n",
       "    </tr>\n",
       "  </tbody>\n",
       "</table>\n",
       "</div>"
      ],
      "text/plain": [
       "               Open     High      Low    Close   Volume\n",
       "2018-11-27  27.1300  27.1399  26.9700  27.0352   8046.0\n",
       "2018-11-28  27.0188  27.2300  26.7300  27.2300  33611.0\n",
       "2018-11-29  27.2700  27.4899  27.2601  27.3601  15552.0\n",
       "2018-11-30  27.2151  27.2900  27.1800  27.2700   7494.0\n",
       "2018-12-03  27.7800  27.8355  27.5200  27.6599  10745.0"
      ]
     },
     "execution_count": 33,
     "metadata": {},
     "output_type": "execute_result"
    }
   ],
   "source": [
    "_wood = getHistory(\"CUT\")[:'2018-12-03']\n",
    "_gold = getHistory(\"IAU\")[:'2018-12-03']\n",
    "_wood.tail()"
   ]
  },
  {
   "cell_type": "code",
   "execution_count": 5,
   "metadata": {},
   "outputs": [],
   "source": [
    "api = getAPI()"
   ]
  },
  {
   "cell_type": "code",
   "execution_count": 18,
   "metadata": {},
   "outputs": [],
   "source": [
    "positions = api.list_positions()\n",
    "inMarket = False\n",
    "for position in positions:\n",
    "    if position.symbol == \"SPY\":\n",
    "        inMarket = True"
   ]
  },
  {
   "cell_type": "code",
   "execution_count": 34,
   "metadata": {},
   "outputs": [
    {
     "data": {
      "text/html": [
       "<div>\n",
       "<style scoped>\n",
       "    .dataframe tbody tr th:only-of-type {\n",
       "        vertical-align: middle;\n",
       "    }\n",
       "\n",
       "    .dataframe tbody tr th {\n",
       "        vertical-align: top;\n",
       "    }\n",
       "\n",
       "    .dataframe thead th {\n",
       "        text-align: right;\n",
       "    }\n",
       "</style>\n",
       "<table border=\"1\" class=\"dataframe\">\n",
       "  <thead>\n",
       "    <tr style=\"text-align: right;\">\n",
       "      <th></th>\n",
       "      <th>Open</th>\n",
       "      <th>High</th>\n",
       "      <th>Low</th>\n",
       "      <th>Close</th>\n",
       "      <th>Volume</th>\n",
       "      <th>Returns</th>\n",
       "    </tr>\n",
       "  </thead>\n",
       "  <tbody>\n",
       "    <tr>\n",
       "      <th>2018-08-31</th>\n",
       "      <td>32.8500</td>\n",
       "      <td>32.9034</td>\n",
       "      <td>32.601</td>\n",
       "      <td>32.7600</td>\n",
       "      <td>7034.0</td>\n",
       "      <td>0.629704</td>\n",
       "    </tr>\n",
       "    <tr>\n",
       "      <th>2018-09-30</th>\n",
       "      <td>32.1800</td>\n",
       "      <td>32.2000</td>\n",
       "      <td>31.970</td>\n",
       "      <td>31.9700</td>\n",
       "      <td>19648.0</td>\n",
       "      <td>-2.411477</td>\n",
       "    </tr>\n",
       "    <tr>\n",
       "      <th>2018-10-31</th>\n",
       "      <td>27.9200</td>\n",
       "      <td>28.0502</td>\n",
       "      <td>27.914</td>\n",
       "      <td>28.0205</td>\n",
       "      <td>8510.0</td>\n",
       "      <td>-12.353769</td>\n",
       "    </tr>\n",
       "    <tr>\n",
       "      <th>2018-11-30</th>\n",
       "      <td>27.2151</td>\n",
       "      <td>27.2900</td>\n",
       "      <td>27.180</td>\n",
       "      <td>27.2700</td>\n",
       "      <td>7494.0</td>\n",
       "      <td>-2.678396</td>\n",
       "    </tr>\n",
       "    <tr>\n",
       "      <th>2018-12-31</th>\n",
       "      <td>27.7800</td>\n",
       "      <td>27.8355</td>\n",
       "      <td>27.520</td>\n",
       "      <td>27.6599</td>\n",
       "      <td>10745.0</td>\n",
       "      <td>1.429776</td>\n",
       "    </tr>\n",
       "  </tbody>\n",
       "</table>\n",
       "</div>"
      ],
      "text/plain": [
       "               Open     High     Low    Close   Volume    Returns\n",
       "2018-08-31  32.8500  32.9034  32.601  32.7600   7034.0   0.629704\n",
       "2018-09-30  32.1800  32.2000  31.970  31.9700  19648.0  -2.411477\n",
       "2018-10-31  27.9200  28.0502  27.914  28.0205   8510.0 -12.353769\n",
       "2018-11-30  27.2151  27.2900  27.180  27.2700   7494.0  -2.678396\n",
       "2018-12-31  27.7800  27.8355  27.520  27.6599  10745.0   1.429776"
      ]
     },
     "execution_count": 34,
     "metadata": {},
     "output_type": "execute_result"
    }
   ],
   "source": [
    "fs = 'M'\n",
    "wood = addReturnsColumn(_wood.resample(fs).last())\n",
    "gold = addReturnsColumn(_gold.resample(fs).last())\n",
    "wood.tail()"
   ]
  },
  {
   "cell_type": "code",
   "execution_count": 36,
   "metadata": {},
   "outputs": [
    {
     "name": "stdout",
     "output_type": "stream",
     "text": [
      "here\n"
     ]
    }
   ],
   "source": [
    "marketIsOpen = True\n",
    "holdingStocks = True\n",
    "if(marketIsOpen):\n",
    "    #check if it's the first trading day of the month\n",
    "    if(_wood.index[-1].day < _wood.index[-2].day):\n",
    "        print(\"It's the first of the month\")\n",
    "        #check if wood is beating gold or if gold is beating wood\n",
    "        if(wood[\"Returns\"].iloc[-2] > gold[\"Returns\"].iloc[-2]):\n",
    "            #buy or hold\n",
    "        else:\n",
    "            #close positions"
   ]
  }
 ],
 "metadata": {
  "kernelspec": {
   "display_name": "Python 3",
   "language": "python",
   "name": "python3"
  },
  "language_info": {
   "codemirror_mode": {
    "name": "ipython",
    "version": 3
   },
   "file_extension": ".py",
   "mimetype": "text/x-python",
   "name": "python",
   "nbconvert_exporter": "python",
   "pygments_lexer": "ipython3",
   "version": "3.6.5"
  }
 },
 "nbformat": 4,
 "nbformat_minor": 2
}
